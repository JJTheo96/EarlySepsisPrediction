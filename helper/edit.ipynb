{
 "cells": [],
 "metadata": {
  "kernelspec": {
   "display_name": "DL_Environment",
   "language": "python",
   "name": "python3"
  },
  "language_info": {
   "codemirror_mode": {
    "name": "ipython",
    "version": 3
   },
   "file_extension": ".py",
   "mimetype": "text/x-python",
   "name": "python",
   "nbconvert_exporter": "python",
   "pygments_lexer": "ipython3",
   "version": "3.7.13"
  },
  "orig_nbformat": 4,
  "vscode": {
   "interpreter": {
    "hash": "fd901a71f1e124788c289e11a286c3218d50d6e5c83a9d223b7671fe76e12162"
   }
  }
 },
 "nbformat": 4,
 "nbformat_minor": 2
}
